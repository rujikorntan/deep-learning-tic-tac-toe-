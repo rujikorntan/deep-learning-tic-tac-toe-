{
  "nbformat": 4,
  "nbformat_minor": 0,
  "metadata": {
    "accelerator": "GPU",
    "colab": {
      "name": "TicTacToe_Keras.ipynb",
      "provenance": [],
      "collapsed_sections": []
    },
    "kernelspec": {
      "name": "python3",
      "display_name": "Python 3"
    },
    "language_info": {
      "codemirror_mode": {
        "name": "ipython",
        "version": 3
      },
      "file_extension": ".py",
      "mimetype": "text/x-python",
      "name": "python",
      "nbconvert_exporter": "python",
      "pygments_lexer": "ipython3",
      "version": "3.7.5"
    }
  },
  "cells": [
    {
      "cell_type": "markdown",
      "metadata": {
        "colab_type": "text",
        "id": "XYgayWkAmema"
      },
      "source": [
        "## **Tic-Tac-Toe Classification by Multiple NN and Keras**"
      ]
    },
    {
      "cell_type": "markdown",
      "metadata": {
        "id": "HUXTvyur5Pyk",
        "colab_type": "text"
      },
      "source": [
        "##Read file and import library"
      ]
    },
    {
      "cell_type": "code",
      "metadata": {
        "id": "aloxUTeQhJY8",
        "colab_type": "code",
        "outputId": "96386d71-cbd8-4c70-9c8f-40f9d591edeb",
        "colab": {
          "base_uri": "https://localhost:8080/",
          "height": 34
        }
      },
      "source": [
        "# for coloab only\n",
        "from google.colab import drive\n",
        "drive.mount('/content/gdrive')\n",
        "root_dir = '/content/gdrive/My Drive/CE - ML &Deep Learning/Deep Learning/'"
      ],
      "execution_count": 1,
      "outputs": [
        {
          "output_type": "stream",
          "text": [
            "Drive already mounted at /content/gdrive; to attempt to forcibly remount, call drive.mount(\"/content/gdrive\", force_remount=True).\n"
          ],
          "name": "stdout"
        }
      ]
    },
    {
      "cell_type": "code",
      "metadata": {
        "colab_type": "code",
        "id": "0bbc5U8Yb0mC",
        "outputId": "6c3f547a-5ffd-4827-8867-be0617280703",
        "colab": {
          "base_uri": "https://localhost:8080/",
          "height": 63
        }
      },
      "source": [
        "import numpy as np\n",
        "import pandas as pd\n",
        "import matplotlib.pyplot as plt\n",
        "plt.style.use('ggplot')  # predefined plotting style\n",
        "\n",
        "from sklearn.preprocessing import LabelEncoder, OneHotEncoder\n",
        "from sklearn.model_selection import train_test_split\n",
        "from tensorflow.keras.wrappers.scikit_learn import KerasClassifier\n",
        "\n",
        "from sklearn.model_selection import GridSearchCV\n",
        "from tensorflow.keras.models import Sequential\n",
        "from tensorflow.keras.layers import Dense\n",
        "from tensorflow.keras.optimizers import SGD\n",
        "\n",
        "\n",
        "# If you are on CoLab, copy tic-tac-toe.csv to the default dir '/content' before running this code.\n",
        "# Download tic-tac-toe.csv: https://drive.google.com/file/d/1WD4ibv0qqWpP4QoNpBAztx2fNylmZWyv/view?usp=sharing\n",
        "# file_name = root_dir + 'tic-tac-toe.csv' \n",
        "# Import dataset\n",
        "# dataset = pd.read_csv(file_name, names = '1 2 3 4 5 6 7 8 9 class'.split())\n",
        "\n",
        "url = 'https://archive.ics.uci.edu/ml/machine-learning-databases/tic-tac-toe/tic-tac-toe.data'\n",
        "dataset = pd.read_csv(url, names = '1 2 3 4 5 6 7 8 9 class'.split())\n",
        "X = dataset.iloc[:, 0:9].values\n",
        "y = dataset.iloc[:, 9:10].values"
      ],
      "execution_count": 2,
      "outputs": [
        {
          "output_type": "display_data",
          "data": {
            "text/html": [
              "<p style=\"color: red;\">\n",
              "The default version of TensorFlow in Colab will soon switch to TensorFlow 2.x.<br>\n",
              "We recommend you <a href=\"https://www.tensorflow.org/guide/migrate\" target=\"_blank\">upgrade</a> now \n",
              "or ensure your notebook will continue to use TensorFlow 1.x via the <code>%tensorflow_version 1.x</code> magic:\n",
              "<a href=\"https://colab.research.google.com/notebooks/tensorflow_version.ipynb\" target=\"_blank\">more info</a>.</p>\n"
            ],
            "text/plain": [
              "<IPython.core.display.HTML object>"
            ]
          },
          "metadata": {
            "tags": []
          }
        }
      ]
    },
    {
      "cell_type": "code",
      "metadata": {
        "id": "5jq_0LHMr9Mk",
        "colab_type": "code",
        "outputId": "dcaf24da-673f-45ce-d26d-e42d146ef122",
        "colab": {
          "base_uri": "https://localhost:8080/",
          "height": 419
        }
      },
      "source": [
        "dataset"
      ],
      "execution_count": 3,
      "outputs": [
        {
          "output_type": "execute_result",
          "data": {
            "text/html": [
              "<div>\n",
              "<style scoped>\n",
              "    .dataframe tbody tr th:only-of-type {\n",
              "        vertical-align: middle;\n",
              "    }\n",
              "\n",
              "    .dataframe tbody tr th {\n",
              "        vertical-align: top;\n",
              "    }\n",
              "\n",
              "    .dataframe thead th {\n",
              "        text-align: right;\n",
              "    }\n",
              "</style>\n",
              "<table border=\"1\" class=\"dataframe\">\n",
              "  <thead>\n",
              "    <tr style=\"text-align: right;\">\n",
              "      <th></th>\n",
              "      <th>1</th>\n",
              "      <th>2</th>\n",
              "      <th>3</th>\n",
              "      <th>4</th>\n",
              "      <th>5</th>\n",
              "      <th>6</th>\n",
              "      <th>7</th>\n",
              "      <th>8</th>\n",
              "      <th>9</th>\n",
              "      <th>class</th>\n",
              "    </tr>\n",
              "  </thead>\n",
              "  <tbody>\n",
              "    <tr>\n",
              "      <th>0</th>\n",
              "      <td>x</td>\n",
              "      <td>x</td>\n",
              "      <td>x</td>\n",
              "      <td>x</td>\n",
              "      <td>o</td>\n",
              "      <td>o</td>\n",
              "      <td>x</td>\n",
              "      <td>o</td>\n",
              "      <td>o</td>\n",
              "      <td>positive</td>\n",
              "    </tr>\n",
              "    <tr>\n",
              "      <th>1</th>\n",
              "      <td>x</td>\n",
              "      <td>x</td>\n",
              "      <td>x</td>\n",
              "      <td>x</td>\n",
              "      <td>o</td>\n",
              "      <td>o</td>\n",
              "      <td>o</td>\n",
              "      <td>x</td>\n",
              "      <td>o</td>\n",
              "      <td>positive</td>\n",
              "    </tr>\n",
              "    <tr>\n",
              "      <th>2</th>\n",
              "      <td>x</td>\n",
              "      <td>x</td>\n",
              "      <td>x</td>\n",
              "      <td>x</td>\n",
              "      <td>o</td>\n",
              "      <td>o</td>\n",
              "      <td>o</td>\n",
              "      <td>o</td>\n",
              "      <td>x</td>\n",
              "      <td>positive</td>\n",
              "    </tr>\n",
              "    <tr>\n",
              "      <th>3</th>\n",
              "      <td>x</td>\n",
              "      <td>x</td>\n",
              "      <td>x</td>\n",
              "      <td>x</td>\n",
              "      <td>o</td>\n",
              "      <td>o</td>\n",
              "      <td>o</td>\n",
              "      <td>b</td>\n",
              "      <td>b</td>\n",
              "      <td>positive</td>\n",
              "    </tr>\n",
              "    <tr>\n",
              "      <th>4</th>\n",
              "      <td>x</td>\n",
              "      <td>x</td>\n",
              "      <td>x</td>\n",
              "      <td>x</td>\n",
              "      <td>o</td>\n",
              "      <td>o</td>\n",
              "      <td>b</td>\n",
              "      <td>o</td>\n",
              "      <td>b</td>\n",
              "      <td>positive</td>\n",
              "    </tr>\n",
              "    <tr>\n",
              "      <th>...</th>\n",
              "      <td>...</td>\n",
              "      <td>...</td>\n",
              "      <td>...</td>\n",
              "      <td>...</td>\n",
              "      <td>...</td>\n",
              "      <td>...</td>\n",
              "      <td>...</td>\n",
              "      <td>...</td>\n",
              "      <td>...</td>\n",
              "      <td>...</td>\n",
              "    </tr>\n",
              "    <tr>\n",
              "      <th>953</th>\n",
              "      <td>o</td>\n",
              "      <td>x</td>\n",
              "      <td>x</td>\n",
              "      <td>x</td>\n",
              "      <td>o</td>\n",
              "      <td>o</td>\n",
              "      <td>o</td>\n",
              "      <td>x</td>\n",
              "      <td>x</td>\n",
              "      <td>negative</td>\n",
              "    </tr>\n",
              "    <tr>\n",
              "      <th>954</th>\n",
              "      <td>o</td>\n",
              "      <td>x</td>\n",
              "      <td>o</td>\n",
              "      <td>x</td>\n",
              "      <td>x</td>\n",
              "      <td>o</td>\n",
              "      <td>x</td>\n",
              "      <td>o</td>\n",
              "      <td>x</td>\n",
              "      <td>negative</td>\n",
              "    </tr>\n",
              "    <tr>\n",
              "      <th>955</th>\n",
              "      <td>o</td>\n",
              "      <td>x</td>\n",
              "      <td>o</td>\n",
              "      <td>x</td>\n",
              "      <td>o</td>\n",
              "      <td>x</td>\n",
              "      <td>x</td>\n",
              "      <td>o</td>\n",
              "      <td>x</td>\n",
              "      <td>negative</td>\n",
              "    </tr>\n",
              "    <tr>\n",
              "      <th>956</th>\n",
              "      <td>o</td>\n",
              "      <td>x</td>\n",
              "      <td>o</td>\n",
              "      <td>o</td>\n",
              "      <td>x</td>\n",
              "      <td>x</td>\n",
              "      <td>x</td>\n",
              "      <td>o</td>\n",
              "      <td>x</td>\n",
              "      <td>negative</td>\n",
              "    </tr>\n",
              "    <tr>\n",
              "      <th>957</th>\n",
              "      <td>o</td>\n",
              "      <td>o</td>\n",
              "      <td>x</td>\n",
              "      <td>x</td>\n",
              "      <td>x</td>\n",
              "      <td>o</td>\n",
              "      <td>o</td>\n",
              "      <td>x</td>\n",
              "      <td>x</td>\n",
              "      <td>negative</td>\n",
              "    </tr>\n",
              "  </tbody>\n",
              "</table>\n",
              "<p>958 rows × 10 columns</p>\n",
              "</div>"
            ],
            "text/plain": [
              "     1  2  3  4  5  6  7  8  9     class\n",
              "0    x  x  x  x  o  o  x  o  o  positive\n",
              "1    x  x  x  x  o  o  o  x  o  positive\n",
              "2    x  x  x  x  o  o  o  o  x  positive\n",
              "3    x  x  x  x  o  o  o  b  b  positive\n",
              "4    x  x  x  x  o  o  b  o  b  positive\n",
              "..  .. .. .. .. .. .. .. .. ..       ...\n",
              "953  o  x  x  x  o  o  o  x  x  negative\n",
              "954  o  x  o  x  x  o  x  o  x  negative\n",
              "955  o  x  o  x  o  x  x  o  x  negative\n",
              "956  o  x  o  o  x  x  x  o  x  negative\n",
              "957  o  o  x  x  x  o  o  x  x  negative\n",
              "\n",
              "[958 rows x 10 columns]"
            ]
          },
          "metadata": {
            "tags": []
          },
          "execution_count": 3
        }
      ]
    },
    {
      "cell_type": "markdown",
      "metadata": {
        "id": "egzLGnfG5hGH",
        "colab_type": "text"
      },
      "source": [
        "##LabelEncoder"
      ]
    },
    {
      "cell_type": "code",
      "metadata": {
        "colab_type": "code",
        "id": "m_lMJTECefDn",
        "outputId": "444a9062-9007-42ef-d893-8f7375a6ecf5",
        "colab": {
          "base_uri": "https://localhost:8080/",
          "height": 51
        }
      },
      "source": [
        "# Encode categorical variables as numeric\n",
        "labelencoder_X = LabelEncoder()\n",
        "for i in range(9):\n",
        "    X[:, i] = labelencoder_X.fit_transform(X[:, i])\n",
        "print(X[0])\n",
        "\n",
        "# Encode target categorical variable\n",
        "labelencoder_y = LabelEncoder()\n",
        "y[:, 0] = labelencoder_y.fit_transform(y[:, 0])\n",
        "print(y[0])"
      ],
      "execution_count": 4,
      "outputs": [
        {
          "output_type": "stream",
          "text": [
            "[2 2 2 2 1 1 2 1 1]\n",
            "[1]\n"
          ],
          "name": "stdout"
        }
      ]
    },
    {
      "cell_type": "markdown",
      "metadata": {
        "id": "n07-8K-7sFVn",
        "colab_type": "text"
      },
      "source": [
        "##OneHot"
      ]
    },
    {
      "cell_type": "code",
      "metadata": {
        "id": "YvgFP-zyLiCK",
        "colab_type": "code",
        "colab": {}
      },
      "source": [
        "# from sklearn.preprocessing import OneHotEncoder\n",
        "# enc = OneHotEncoder()\n",
        "# enc.fit(X)\n",
        "# X = enc.transform(X).toarray()"
      ],
      "execution_count": 0,
      "outputs": []
    },
    {
      "cell_type": "markdown",
      "metadata": {
        "id": "qJxwEzXL5m_k",
        "colab_type": "text"
      },
      "source": [
        "##Split data"
      ]
    },
    {
      "cell_type": "code",
      "metadata": {
        "colab_type": "code",
        "id": "7bf7bbRlzx7y",
        "colab": {}
      },
      "source": [
        "# Train/test split\n",
        "# !!! DO NOT change test_size, random_state and stratify !!\n",
        "X_train, X_test, y_train, y_test = train_test_split(X, y, test_size=0.2, random_state=42, stratify=y)"
      ],
      "execution_count": 0,
      "outputs": []
    },
    {
      "cell_type": "code",
      "metadata": {
        "id": "P1QHp3GGAj13",
        "colab_type": "code",
        "outputId": "fb441fa1-db05-4176-ebbf-2c4b2ffcb0c5",
        "colab": {
          "base_uri": "https://localhost:8080/",
          "height": 34
        }
      },
      "source": [
        "X_train.shape"
      ],
      "execution_count": 7,
      "outputs": [
        {
          "output_type": "execute_result",
          "data": {
            "text/plain": [
              "(766, 9)"
            ]
          },
          "metadata": {
            "tags": []
          },
          "execution_count": 7
        }
      ]
    },
    {
      "cell_type": "code",
      "metadata": {
        "id": "Nc4nGHu-lHWP",
        "colab_type": "code",
        "outputId": "d5e21a61-cf49-4976-9168-4e2282efb8ce",
        "colab": {
          "base_uri": "https://localhost:8080/",
          "height": 170
        }
      },
      "source": [
        "num_class_label = np.unique(np.array(y_train), return_counts=True)\n",
        "print('Train shape: ', X_train.shape)\n",
        "print('class label 0 : ', num_class_label[1][0])\n",
        "print('class label 1 : ', num_class_label[1][1])\n",
        "\n",
        "print('\\n======================================================\\n')\n",
        "\n",
        "num_class_label = np.unique(np.array(y_test), return_counts=True)\n",
        "print('Test shape: ', X_test.shape)\n",
        "print('class label 0 : ', num_class_label[1][0])\n",
        "print('class label 1 : ', num_class_label[1][1])"
      ],
      "execution_count": 8,
      "outputs": [
        {
          "output_type": "stream",
          "text": [
            "Train shape:  (766, 9)\n",
            "class label 0 :  265\n",
            "class label 1 :  501\n",
            "\n",
            "======================================================\n",
            "\n",
            "Test shape:  (192, 9)\n",
            "class label 0 :  67\n",
            "class label 1 :  125\n"
          ],
          "name": "stdout"
        }
      ]
    },
    {
      "cell_type": "markdown",
      "metadata": {
        "id": "UDLrKjD35qZG",
        "colab_type": "text"
      },
      "source": [
        "##Init neural network architecture"
      ]
    },
    {
      "cell_type": "code",
      "metadata": {
        "id": "ZjQ44oYareCP",
        "colab_type": "code",
        "colab": {}
      },
      "source": [
        "def create_model(neurons=(100, 100), lr=0.06, momentum=0.9):\n",
        "    model = Sequential()\n",
        "\n",
        "    model.add(Dense(neurons[0], kernel_initializer='uniform', activation='relu', input_shape=(X_train.shape[1:]), use_bias=True))\n",
        "    model.add(Dense(neurons[1], kernel_initializer='uniform', activation='relu', use_bias=True))\n",
        "    model.add(Dense(1, kernel_initializer='uniform', activation='sigmoid', use_bias=True))\n",
        "\n",
        "\n",
        "    optimizer = SGD(lr=0.06, decay=1e-6, momentum=0.9, nesterov=True)\n",
        "    model.compile(optimizer=optimizer, loss='binary_crossentropy', metrics=['accuracy'])\n",
        "\n",
        "    return model"
      ],
      "execution_count": 0,
      "outputs": []
    },
    {
      "cell_type": "code",
      "metadata": {
        "id": "6XtVr4ZIBx-l",
        "colab_type": "code",
        "colab": {
          "base_uri": "https://localhost:8080/",
          "height": 428
        },
        "outputId": "fa3030d9-644e-4534-f908-5af94c7d7cfc"
      },
      "source": [
        "nnet = create_model()\n",
        "nnet.summary()"
      ],
      "execution_count": 10,
      "outputs": [
        {
          "output_type": "stream",
          "text": [
            "WARNING:tensorflow:From /usr/local/lib/python3.6/dist-packages/tensorflow_core/python/keras/initializers.py:119: calling RandomUniform.__init__ (from tensorflow.python.ops.init_ops) with dtype is deprecated and will be removed in a future version.\n",
            "Instructions for updating:\n",
            "Call initializer instance with the dtype argument instead of passing it to the constructor\n",
            "WARNING:tensorflow:From /usr/local/lib/python3.6/dist-packages/tensorflow_core/python/ops/resource_variable_ops.py:1630: calling BaseResourceVariable.__init__ (from tensorflow.python.ops.resource_variable_ops) with constraint is deprecated and will be removed in a future version.\n",
            "Instructions for updating:\n",
            "If using Keras pass *_constraint arguments to layers.\n",
            "WARNING:tensorflow:From /usr/local/lib/python3.6/dist-packages/tensorflow_core/python/ops/nn_impl.py:183: where (from tensorflow.python.ops.array_ops) is deprecated and will be removed in a future version.\n",
            "Instructions for updating:\n",
            "Use tf.where in 2.0, which has the same broadcast rule as np.where\n",
            "Model: \"sequential\"\n",
            "_________________________________________________________________\n",
            "Layer (type)                 Output Shape              Param #   \n",
            "=================================================================\n",
            "dense (Dense)                (None, 100)               1000      \n",
            "_________________________________________________________________\n",
            "dense_1 (Dense)              (None, 100)               10100     \n",
            "_________________________________________________________________\n",
            "dense_2 (Dense)              (None, 1)                 101       \n",
            "=================================================================\n",
            "Total params: 11,201\n",
            "Trainable params: 11,201\n",
            "Non-trainable params: 0\n",
            "_________________________________________________________________\n"
          ],
          "name": "stdout"
        }
      ]
    },
    {
      "cell_type": "code",
      "metadata": {
        "id": "gttnJ61nysZw",
        "colab_type": "code",
        "outputId": "357e51f7-d8d0-4467-ded5-efde18e38e45",
        "colab": {
          "base_uri": "https://localhost:8080/",
          "height": 1000
        }
      },
      "source": [
        "history_callback = nnet.fit(X_train, y_train, batch_size=10, epochs=100, verbose=1, validation_data=(X_test, y_test))"
      ],
      "execution_count": 11,
      "outputs": [
        {
          "output_type": "stream",
          "text": [
            "Train on 766 samples, validate on 192 samples\n",
            "Epoch 1/100\n",
            "766/766 [==============================] - 1s 659us/sample - loss: 0.6532 - acc: 0.6540 - val_loss: 0.6428 - val_acc: 0.6510\n",
            "Epoch 2/100\n",
            "766/766 [==============================] - 0s 244us/sample - loss: 0.6349 - acc: 0.6540 - val_loss: 0.6237 - val_acc: 0.6510\n",
            "Epoch 3/100\n",
            "766/766 [==============================] - 0s 256us/sample - loss: 0.6262 - acc: 0.6580 - val_loss: 0.6192 - val_acc: 0.6875\n",
            "Epoch 4/100\n",
            "766/766 [==============================] - 0s 284us/sample - loss: 0.6191 - acc: 0.6488 - val_loss: 0.6148 - val_acc: 0.6667\n",
            "Epoch 5/100\n",
            "766/766 [==============================] - 0s 235us/sample - loss: 0.5964 - acc: 0.7154 - val_loss: 0.5909 - val_acc: 0.6719\n",
            "Epoch 6/100\n",
            "766/766 [==============================] - 0s 251us/sample - loss: 0.5630 - acc: 0.7245 - val_loss: 0.6565 - val_acc: 0.6615\n",
            "Epoch 7/100\n",
            "766/766 [==============================] - 0s 246us/sample - loss: 0.5347 - acc: 0.7493 - val_loss: 0.6015 - val_acc: 0.7188\n",
            "Epoch 8/100\n",
            "766/766 [==============================] - 0s 263us/sample - loss: 0.4964 - acc: 0.7663 - val_loss: 0.4965 - val_acc: 0.7917\n",
            "Epoch 9/100\n",
            "766/766 [==============================] - 0s 291us/sample - loss: 0.4809 - acc: 0.7624 - val_loss: 0.4863 - val_acc: 0.7865\n",
            "Epoch 10/100\n",
            "766/766 [==============================] - 0s 264us/sample - loss: 0.4854 - acc: 0.7794 - val_loss: 0.4914 - val_acc: 0.7708\n",
            "Epoch 11/100\n",
            "766/766 [==============================] - 0s 263us/sample - loss: 0.4528 - acc: 0.7872 - val_loss: 0.7402 - val_acc: 0.7656\n",
            "Epoch 12/100\n",
            "766/766 [==============================] - 0s 269us/sample - loss: 0.4567 - acc: 0.7950 - val_loss: 0.4102 - val_acc: 0.8333\n",
            "Epoch 13/100\n",
            "766/766 [==============================] - 0s 274us/sample - loss: 0.4126 - acc: 0.8094 - val_loss: 0.4883 - val_acc: 0.7969\n",
            "Epoch 14/100\n",
            "766/766 [==============================] - 0s 257us/sample - loss: 0.4053 - acc: 0.8094 - val_loss: 0.5168 - val_acc: 0.7917\n",
            "Epoch 15/100\n",
            "766/766 [==============================] - 0s 263us/sample - loss: 0.4001 - acc: 0.8316 - val_loss: 0.5084 - val_acc: 0.7969\n",
            "Epoch 16/100\n",
            "766/766 [==============================] - 0s 255us/sample - loss: 0.4023 - acc: 0.8251 - val_loss: 0.3807 - val_acc: 0.8385\n",
            "Epoch 17/100\n",
            "766/766 [==============================] - 0s 242us/sample - loss: 0.3574 - acc: 0.8433 - val_loss: 0.4711 - val_acc: 0.8177\n",
            "Epoch 18/100\n",
            "766/766 [==============================] - 0s 252us/sample - loss: 0.3753 - acc: 0.8420 - val_loss: 0.4919 - val_acc: 0.7760\n",
            "Epoch 19/100\n",
            "766/766 [==============================] - 0s 262us/sample - loss: 0.3543 - acc: 0.8525 - val_loss: 0.4490 - val_acc: 0.7865\n",
            "Epoch 20/100\n",
            "766/766 [==============================] - 0s 251us/sample - loss: 0.3343 - acc: 0.8538 - val_loss: 0.5208 - val_acc: 0.7448\n",
            "Epoch 21/100\n",
            "766/766 [==============================] - 0s 246us/sample - loss: 0.3389 - acc: 0.8551 - val_loss: 0.4228 - val_acc: 0.8021\n",
            "Epoch 22/100\n",
            "766/766 [==============================] - 0s 244us/sample - loss: 0.3131 - acc: 0.8603 - val_loss: 0.3957 - val_acc: 0.8073\n",
            "Epoch 23/100\n",
            "766/766 [==============================] - 0s 242us/sample - loss: 0.2579 - acc: 0.8943 - val_loss: 0.4435 - val_acc: 0.8229\n",
            "Epoch 24/100\n",
            "766/766 [==============================] - 0s 249us/sample - loss: 0.2573 - acc: 0.8995 - val_loss: 0.3328 - val_acc: 0.8542\n",
            "Epoch 25/100\n",
            "766/766 [==============================] - 0s 254us/sample - loss: 0.2394 - acc: 0.9073 - val_loss: 0.3510 - val_acc: 0.8333\n",
            "Epoch 26/100\n",
            "766/766 [==============================] - 0s 261us/sample - loss: 0.2429 - acc: 0.9034 - val_loss: 0.3225 - val_acc: 0.8646\n",
            "Epoch 27/100\n",
            "766/766 [==============================] - 0s 247us/sample - loss: 0.2661 - acc: 0.8786 - val_loss: 0.4158 - val_acc: 0.8073\n",
            "Epoch 28/100\n",
            "766/766 [==============================] - 0s 265us/sample - loss: 0.2139 - acc: 0.9256 - val_loss: 0.3867 - val_acc: 0.8490\n",
            "Epoch 29/100\n",
            "766/766 [==============================] - 0s 268us/sample - loss: 0.2704 - acc: 0.8825 - val_loss: 0.3902 - val_acc: 0.8542\n",
            "Epoch 30/100\n",
            "766/766 [==============================] - 0s 260us/sample - loss: 0.1713 - acc: 0.9413 - val_loss: 0.2833 - val_acc: 0.9010\n",
            "Epoch 31/100\n",
            "766/766 [==============================] - 0s 250us/sample - loss: 0.1168 - acc: 0.9491 - val_loss: 0.3746 - val_acc: 0.8698\n",
            "Epoch 32/100\n",
            "766/766 [==============================] - 0s 258us/sample - loss: 0.2237 - acc: 0.9217 - val_loss: 0.2872 - val_acc: 0.8802\n",
            "Epoch 33/100\n",
            "766/766 [==============================] - 0s 253us/sample - loss: 0.1548 - acc: 0.9439 - val_loss: 0.2897 - val_acc: 0.8854\n",
            "Epoch 34/100\n",
            "766/766 [==============================] - 0s 260us/sample - loss: 0.1906 - acc: 0.9243 - val_loss: 0.2940 - val_acc: 0.8854\n",
            "Epoch 35/100\n",
            "766/766 [==============================] - 0s 223us/sample - loss: 0.1622 - acc: 0.9426 - val_loss: 0.1679 - val_acc: 0.9323\n",
            "Epoch 36/100\n",
            "766/766 [==============================] - 0s 248us/sample - loss: 0.1404 - acc: 0.9465 - val_loss: 0.2199 - val_acc: 0.9062\n",
            "Epoch 37/100\n",
            "766/766 [==============================] - 0s 245us/sample - loss: 0.2422 - acc: 0.9230 - val_loss: 0.2212 - val_acc: 0.9062\n",
            "Epoch 38/100\n",
            "766/766 [==============================] - 0s 246us/sample - loss: 0.1555 - acc: 0.9334 - val_loss: 0.1711 - val_acc: 0.9375\n",
            "Epoch 39/100\n",
            "766/766 [==============================] - 0s 254us/sample - loss: 0.1328 - acc: 0.9452 - val_loss: 0.2604 - val_acc: 0.8802\n",
            "Epoch 40/100\n",
            "766/766 [==============================] - 0s 265us/sample - loss: 0.1365 - acc: 0.9426 - val_loss: 0.1370 - val_acc: 0.9531\n",
            "Epoch 41/100\n",
            "766/766 [==============================] - 0s 251us/sample - loss: 0.0743 - acc: 0.9713 - val_loss: 0.2039 - val_acc: 0.9323\n",
            "Epoch 42/100\n",
            "766/766 [==============================] - 0s 258us/sample - loss: 0.0737 - acc: 0.9713 - val_loss: 0.1591 - val_acc: 0.9323\n",
            "Epoch 43/100\n",
            "766/766 [==============================] - 0s 252us/sample - loss: 0.1141 - acc: 0.9569 - val_loss: 0.1963 - val_acc: 0.9375\n",
            "Epoch 44/100\n",
            "766/766 [==============================] - 0s 247us/sample - loss: 0.1516 - acc: 0.9478 - val_loss: 0.1894 - val_acc: 0.9271\n",
            "Epoch 45/100\n",
            "766/766 [==============================] - 0s 262us/sample - loss: 0.1675 - acc: 0.9373 - val_loss: 0.3068 - val_acc: 0.9219\n",
            "Epoch 46/100\n",
            "766/766 [==============================] - 0s 262us/sample - loss: 0.1609 - acc: 0.9465 - val_loss: 0.3291 - val_acc: 0.8906\n",
            "Epoch 47/100\n",
            "766/766 [==============================] - 0s 247us/sample - loss: 0.1359 - acc: 0.9426 - val_loss: 0.1428 - val_acc: 0.9323\n",
            "Epoch 48/100\n",
            "766/766 [==============================] - 0s 259us/sample - loss: 0.0427 - acc: 0.9843 - val_loss: 0.1455 - val_acc: 0.9427\n",
            "Epoch 49/100\n",
            "766/766 [==============================] - 0s 253us/sample - loss: 0.0841 - acc: 0.9739 - val_loss: 0.2244 - val_acc: 0.9219\n",
            "Epoch 50/100\n",
            "766/766 [==============================] - 0s 260us/sample - loss: 0.0877 - acc: 0.9687 - val_loss: 0.2688 - val_acc: 0.9323\n",
            "Epoch 51/100\n",
            "766/766 [==============================] - 0s 256us/sample - loss: 0.1816 - acc: 0.9465 - val_loss: 0.2220 - val_acc: 0.9271\n",
            "Epoch 52/100\n",
            "766/766 [==============================] - 0s 239us/sample - loss: 0.0907 - acc: 0.9713 - val_loss: 0.1918 - val_acc: 0.9219\n",
            "Epoch 53/100\n",
            "766/766 [==============================] - 0s 251us/sample - loss: 0.0622 - acc: 0.9765 - val_loss: 0.1221 - val_acc: 0.9531\n",
            "Epoch 54/100\n",
            "766/766 [==============================] - 0s 268us/sample - loss: 0.0580 - acc: 0.9791 - val_loss: 0.1597 - val_acc: 0.9531\n",
            "Epoch 55/100\n",
            "766/766 [==============================] - 0s 256us/sample - loss: 0.0730 - acc: 0.9752 - val_loss: 0.0977 - val_acc: 0.9688\n",
            "Epoch 56/100\n",
            "766/766 [==============================] - 0s 237us/sample - loss: 0.0360 - acc: 0.9856 - val_loss: 0.0937 - val_acc: 0.9635\n",
            "Epoch 57/100\n",
            "766/766 [==============================] - 0s 245us/sample - loss: 0.0093 - acc: 0.9974 - val_loss: 0.1007 - val_acc: 0.9635\n",
            "Epoch 58/100\n",
            "766/766 [==============================] - 0s 244us/sample - loss: 0.0849 - acc: 0.9726 - val_loss: 0.1450 - val_acc: 0.9479\n",
            "Epoch 59/100\n",
            "766/766 [==============================] - 0s 249us/sample - loss: 0.1493 - acc: 0.9556 - val_loss: 0.0841 - val_acc: 0.9740\n",
            "Epoch 60/100\n",
            "766/766 [==============================] - 0s 229us/sample - loss: 0.0725 - acc: 0.9817 - val_loss: 0.1177 - val_acc: 0.9583\n",
            "Epoch 61/100\n",
            "766/766 [==============================] - 0s 264us/sample - loss: 0.0633 - acc: 0.9726 - val_loss: 0.3450 - val_acc: 0.9271\n",
            "Epoch 62/100\n",
            "766/766 [==============================] - 0s 259us/sample - loss: 0.1090 - acc: 0.9648 - val_loss: 0.1561 - val_acc: 0.9479\n",
            "Epoch 63/100\n",
            "766/766 [==============================] - 0s 236us/sample - loss: 0.0592 - acc: 0.9830 - val_loss: 0.1074 - val_acc: 0.9635\n",
            "Epoch 64/100\n",
            "766/766 [==============================] - 0s 290us/sample - loss: 0.0652 - acc: 0.9817 - val_loss: 0.4954 - val_acc: 0.8802\n",
            "Epoch 65/100\n",
            "766/766 [==============================] - 0s 274us/sample - loss: 0.1845 - acc: 0.9439 - val_loss: 0.2118 - val_acc: 0.9219\n",
            "Epoch 66/100\n",
            "766/766 [==============================] - 0s 249us/sample - loss: 0.0435 - acc: 0.9843 - val_loss: 0.1064 - val_acc: 0.9583\n",
            "Epoch 67/100\n",
            "766/766 [==============================] - 0s 240us/sample - loss: 0.0045 - acc: 1.0000 - val_loss: 0.0827 - val_acc: 0.9688\n",
            "Epoch 68/100\n",
            "766/766 [==============================] - 0s 245us/sample - loss: 0.0014 - acc: 1.0000 - val_loss: 0.0874 - val_acc: 0.9635\n",
            "Epoch 69/100\n",
            "766/766 [==============================] - 0s 249us/sample - loss: 7.7733e-04 - acc: 1.0000 - val_loss: 0.0888 - val_acc: 0.9688\n",
            "Epoch 70/100\n",
            "766/766 [==============================] - 0s 253us/sample - loss: 5.7922e-04 - acc: 1.0000 - val_loss: 0.0891 - val_acc: 0.9688\n",
            "Epoch 71/100\n",
            "766/766 [==============================] - 0s 274us/sample - loss: 4.7403e-04 - acc: 1.0000 - val_loss: 0.0879 - val_acc: 0.9740\n",
            "Epoch 72/100\n",
            "766/766 [==============================] - 0s 255us/sample - loss: 4.0519e-04 - acc: 1.0000 - val_loss: 0.0882 - val_acc: 0.9792\n",
            "Epoch 73/100\n",
            "766/766 [==============================] - 0s 247us/sample - loss: 3.5259e-04 - acc: 1.0000 - val_loss: 0.0878 - val_acc: 0.9792\n",
            "Epoch 74/100\n",
            "766/766 [==============================] - 0s 256us/sample - loss: 3.0996e-04 - acc: 1.0000 - val_loss: 0.0867 - val_acc: 0.9792\n",
            "Epoch 75/100\n",
            "766/766 [==============================] - 0s 263us/sample - loss: 2.7922e-04 - acc: 1.0000 - val_loss: 0.0869 - val_acc: 0.9792\n",
            "Epoch 76/100\n",
            "766/766 [==============================] - 0s 263us/sample - loss: 2.5305e-04 - acc: 1.0000 - val_loss: 0.0871 - val_acc: 0.9844\n",
            "Epoch 77/100\n",
            "766/766 [==============================] - 0s 266us/sample - loss: 2.3212e-04 - acc: 1.0000 - val_loss: 0.0875 - val_acc: 0.9792\n",
            "Epoch 78/100\n",
            "766/766 [==============================] - 0s 250us/sample - loss: 2.1418e-04 - acc: 1.0000 - val_loss: 0.0887 - val_acc: 0.9844\n",
            "Epoch 79/100\n",
            "766/766 [==============================] - 0s 262us/sample - loss: 1.9910e-04 - acc: 1.0000 - val_loss: 0.0879 - val_acc: 0.9844\n",
            "Epoch 80/100\n",
            "766/766 [==============================] - 0s 265us/sample - loss: 1.8572e-04 - acc: 1.0000 - val_loss: 0.0884 - val_acc: 0.9844\n",
            "Epoch 81/100\n",
            "766/766 [==============================] - 0s 261us/sample - loss: 1.7322e-04 - acc: 1.0000 - val_loss: 0.0873 - val_acc: 0.9844\n",
            "Epoch 82/100\n",
            "766/766 [==============================] - 0s 246us/sample - loss: 1.6326e-04 - acc: 1.0000 - val_loss: 0.0874 - val_acc: 0.9844\n",
            "Epoch 83/100\n",
            "766/766 [==============================] - 0s 246us/sample - loss: 1.5434e-04 - acc: 1.0000 - val_loss: 0.0874 - val_acc: 0.9844\n",
            "Epoch 84/100\n",
            "766/766 [==============================] - 0s 249us/sample - loss: 1.4595e-04 - acc: 1.0000 - val_loss: 0.0870 - val_acc: 0.9844\n",
            "Epoch 85/100\n",
            "766/766 [==============================] - 0s 243us/sample - loss: 1.3883e-04 - acc: 1.0000 - val_loss: 0.0878 - val_acc: 0.9844\n",
            "Epoch 86/100\n",
            "766/766 [==============================] - 0s 249us/sample - loss: 1.3201e-04 - acc: 1.0000 - val_loss: 0.0879 - val_acc: 0.9844\n",
            "Epoch 87/100\n",
            "766/766 [==============================] - 0s 259us/sample - loss: 1.2592e-04 - acc: 1.0000 - val_loss: 0.0879 - val_acc: 0.9844\n",
            "Epoch 88/100\n",
            "766/766 [==============================] - 0s 250us/sample - loss: 1.2043e-04 - acc: 1.0000 - val_loss: 0.0883 - val_acc: 0.9844\n",
            "Epoch 89/100\n",
            "766/766 [==============================] - 0s 242us/sample - loss: 1.1535e-04 - acc: 1.0000 - val_loss: 0.0884 - val_acc: 0.9844\n",
            "Epoch 90/100\n",
            "766/766 [==============================] - 0s 260us/sample - loss: 1.1088e-04 - acc: 1.0000 - val_loss: 0.0883 - val_acc: 0.9844\n",
            "Epoch 91/100\n",
            "766/766 [==============================] - 0s 266us/sample - loss: 1.0649e-04 - acc: 1.0000 - val_loss: 0.0884 - val_acc: 0.9844\n",
            "Epoch 92/100\n",
            "766/766 [==============================] - 0s 252us/sample - loss: 1.0264e-04 - acc: 1.0000 - val_loss: 0.0883 - val_acc: 0.9844\n",
            "Epoch 93/100\n",
            "766/766 [==============================] - 0s 236us/sample - loss: 9.8291e-05 - acc: 1.0000 - val_loss: 0.0881 - val_acc: 0.9844\n",
            "Epoch 94/100\n",
            "766/766 [==============================] - 0s 248us/sample - loss: 9.4979e-05 - acc: 1.0000 - val_loss: 0.0883 - val_acc: 0.9844\n",
            "Epoch 95/100\n",
            "766/766 [==============================] - 0s 236us/sample - loss: 9.1689e-05 - acc: 1.0000 - val_loss: 0.0881 - val_acc: 0.9844\n",
            "Epoch 96/100\n",
            "766/766 [==============================] - 0s 249us/sample - loss: 8.8728e-05 - acc: 1.0000 - val_loss: 0.0883 - val_acc: 0.9844\n",
            "Epoch 97/100\n",
            "766/766 [==============================] - 0s 259us/sample - loss: 8.5913e-05 - acc: 1.0000 - val_loss: 0.0885 - val_acc: 0.9844\n",
            "Epoch 98/100\n",
            "766/766 [==============================] - 0s 241us/sample - loss: 8.3194e-05 - acc: 1.0000 - val_loss: 0.0884 - val_acc: 0.9844\n",
            "Epoch 99/100\n",
            "766/766 [==============================] - 0s 265us/sample - loss: 8.0594e-05 - acc: 1.0000 - val_loss: 0.0884 - val_acc: 0.9844\n",
            "Epoch 100/100\n",
            "766/766 [==============================] - 0s 249us/sample - loss: 7.8139e-05 - acc: 1.0000 - val_loss: 0.0889 - val_acc: 0.9844\n"
          ],
          "name": "stdout"
        }
      ]
    },
    {
      "cell_type": "markdown",
      "metadata": {
        "id": "zD6yH7Nt5670",
        "colab_type": "text"
      },
      "source": [
        "## Training accuracy and Training Loss Graph "
      ]
    },
    {
      "cell_type": "code",
      "metadata": {
        "colab_type": "code",
        "id": "pgO-JU6f0ASe",
        "outputId": "9f6d75f4-beac-4526-af63-6a4ef8c1814f",
        "colab": {
          "base_uri": "https://localhost:8080/",
          "height": 391
        }
      },
      "source": [
        "fig, (ax1, ax2) = plt.subplots(2, figsize=(8, 6))\n",
        "\n",
        "acc = history_callback.history['acc']\n",
        "loss = history_callback.history['loss']\n",
        "ax1.plot(acc, label=nnet)\n",
        "ax2.plot(loss, label=nnet)\n",
        "    \n",
        "ax1.set_ylabel('Training accuracy')\n",
        "ax2.set_ylabel('Training loss')\n",
        "ax2.set_xlabel('epochs')\n",
        "#ax1.legend()\n",
        "#ax2.legend()\n",
        "plt.show()"
      ],
      "execution_count": 12,
      "outputs": [
        {
          "output_type": "display_data",
          "data": {
            "image/png": "[encoded data removed]",
            "text/plain": [
              "<Figure size 576x432 with 2 Axes>"
            ]
          },
          "metadata": {
            "tags": []
          }
        }
      ]
    },
    {
      "cell_type": "code",
      "metadata": {
        "colab_type": "code",
        "id": "kY7FCrov0G0h",
        "outputId": "291c4e7a-6b0e-4eaf-e671-4049e2597678",
        "colab": {
          "base_uri": "https://localhost:8080/",
          "height": 68
        }
      },
      "source": [
        "score = nnet.evaluate(X_test, y_test, verbose=1)\n",
        "print('Test loss:', score[0])\n",
        "print('Test accuracy:', score[1])\n",
        "\n",
        "# Predicting the test set results\n",
        "y_pred = nnet.predict_classes(X_test)"
      ],
      "execution_count": 13,
      "outputs": [
        {
          "output_type": "stream",
          "text": [
            "192/192 [==============================] - 0s 87us/sample - loss: 0.0889 - acc: 0.9844\n",
            "Test loss: 0.08890617617483561\n",
            "Test accuracy: 0.984375\n"
          ],
          "name": "stdout"
        }
      ]
    },
    {
      "cell_type": "markdown",
      "metadata": {
        "id": "zsD37Z-6l_P1",
        "colab_type": "text"
      },
      "source": [
        "##Confusion Matrix"
      ]
    },
    {
      "cell_type": "code",
      "metadata": {
        "id": "UsFW_YiVg3Mc",
        "colab_type": "code",
        "outputId": "744757c7-273c-4513-c04b-7e4b5f83ba78",
        "colab": {
          "base_uri": "https://localhost:8080/",
          "height": 282
        }
      },
      "source": [
        "from sklearn.metrics import confusion_matrix\n",
        "import seaborn as sns\n",
        "\n",
        "conf_mat = confusion_matrix(list(y_test.reshape(-1)), list(y_pred.reshape(-1)))\n",
        "ax = sns.heatmap(conf_mat, annot=True, fmt=\"d\",\n",
        "            xticklabels=[0, 1], yticklabels=[0, 1], cmap=\"Blues\")\n",
        "bottom, top = ax.get_ylim()\n",
        "plt.ylabel(\"Actual\")\n",
        "plt.xlabel(\"Predicted\")\n",
        "plt.show()"
      ],
      "execution_count": 14,
      "outputs": [
        {
          "output_type": "display_data",
          "data": {
            "image/png": "[encoded data removed]",
            "text/plain": [
              "<Figure size 432x288 with 2 Axes>"
            ]
          },
          "metadata": {
            "tags": []
          }
        }
      ]
    },
    {
      "cell_type": "markdown",
      "metadata": {
        "id": "f-A7MBG6mUua",
        "colab_type": "text"
      },
      "source": [
        "##AUC & ROC"
      ]
    },
    {
      "cell_type": "code",
      "metadata": {
        "id": "0qTy9phOmX__",
        "colab_type": "code",
        "outputId": "da682ad4-a84b-4a05-d0e2-3433dd1b6a3f",
        "colab": {
          "base_uri": "https://localhost:8080/",
          "height": 299
        }
      },
      "source": [
        "from matplotlib import pyplot\n",
        "from sklearn.metrics import roc_curve\n",
        "from sklearn.metrics import roc_auc_score\n",
        "\n",
        "lr_probs = nnet.predict_proba(X_test)\n",
        "lr_auc = roc_auc_score(list(y_test.reshape(-1)), lr_probs)\n",
        "\n",
        "\n",
        "# summarize scores\n",
        "print('Logistic: ROC AUC=%.3f' % (lr_auc))\n",
        "\n",
        "# calculate roc curves\n",
        "lr_fpr, lr_tpr, _ = roc_curve(list(y_test.reshape(-1)), lr_probs)\n",
        "pyplot.plot(lr_fpr, lr_tpr, marker='.', label='ROC')\n",
        "# axis labels\n",
        "pyplot.xlabel('False Positive Rate')\n",
        "pyplot.ylabel('True Positive Rate')\n",
        "# show the legend\n",
        "pyplot.legend()\n",
        "# show the plot\n",
        "pyplot.show()"
      ],
      "execution_count": 15,
      "outputs": [
        {
          "output_type": "stream",
          "text": [
            "Logistic: ROC AUC=0.997\n"
          ],
          "name": "stdout"
        },
        {
          "output_type": "display_data",
          "data": {
            "image/png": "[encoded data removed]",
            "text/plain": [
              "<Figure size 432x288 with 1 Axes>"
            ]
          },
          "metadata": {
            "tags": []
          }
        }
      ]
    },
    {
      "cell_type": "markdown",
      "metadata": {
        "id": "tckcu1Gcpstk",
        "colab_type": "text"
      },
      "source": [
        "##GridSearchCV"
      ]
    },
    {
      "cell_type": "code",
      "metadata": {
        "id": "cSSE4-S6prn-",
        "colab_type": "code",
        "colab": {}
      },
      "source": [
        "param_grid = {\n",
        "    'neurons' : [(8, 8), (16, 16)],\n",
        "    'lr' : [0.01, 0.1],\n",
        "    'momentum' : [0.8, 0.9],\n",
        "    'batch_size' : [8, 16],\n",
        "    'epochs' : [40],\n",
        "}"
      ],
      "execution_count": 0,
      "outputs": []
    },
    {
      "cell_type": "code",
      "metadata": {
        "id": "vd0CCSh-pw57",
        "colab_type": "code",
        "colab": {}
      },
      "source": [
        "model = KerasClassifier(build_fn=create_model, epochs=80, batch_size=16, verbose=0)\n",
        "grid = GridSearchCV(estimator=model, param_grid=param_grid, n_jobs=-1)\n",
        "grid_result = grid.fit(X_train, y_train)\n",
        "\n",
        "print(grid_result.best_score_, grid_result.best_params_)\n",
        "\n",
        "means = grid_result.cv_results_['mean_test_score']\n",
        "stds = grid_result.cv_results_['std_test_score']\n",
        "params = grid_result.cv_results_['params']\n",
        "for mean, stdev, param in zip(means, stds, params):\n",
        "    print(f'{mean} ({stdev}) with: {param}')"
      ],
      "execution_count": 0,
      "outputs": []
    },
    {
      "cell_type": "markdown",
      "metadata": {
        "id": "IJ5zMBSP6GWR",
        "colab_type": "text"
      },
      "source": [
        "##Average test accuracy rate in 10 times"
      ]
    },
    {
      "cell_type": "code",
      "metadata": {
        "id": "b8yNxaje0ywP",
        "colab_type": "code",
        "colab": {}
      },
      "source": [
        "scores = []\n",
        "for i in range(12):\n",
        "  nnet = create_model()\n",
        "  nnet.fit(X_train, y_train, batch_size=16, epochs=100, verbose=0)\n",
        "\n",
        "  score = nnet.evaluate(X_test, y_test, verbose=1)\n",
        "  print('Test loss ', i, ' : ', score[0])\n",
        "  print('Test accuracy', i, ' : ', score[1])\n",
        "  scores.append(score[1])\n",
        "print('Max accuracy rate :', np.array(scores).max())\n",
        "print('Min accuracy rate :', np.array(scores).min())"
      ],
      "execution_count": 0,
      "outputs": []
    },
    {
      "cell_type": "code",
      "metadata": {
        "id": "-JvMcZO6BpxS",
        "colab_type": "code",
        "colab": {}
      },
      "source": [
        ""
      ],
      "execution_count": 0,
      "outputs": []
    }
  ]
}