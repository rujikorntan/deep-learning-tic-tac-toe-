{
 "cells": [
  {
   "cell_type": "markdown",
   "metadata": {
    "colab_type": "text",
    "id": "XYgayWkAmema"
   },
   "source": [
    "## **Tic-Tac-Toe Classification by Multiple NN and Keras**"
   ]
  },
  {
   "cell_type": "code",
   "execution_count": null,
   "metadata": {
    "colab": {},
    "colab_type": "code",
    "id": "0bbc5U8Yb0mC"
   },
   "outputs": [],
   "source": [
    "import numpy as np\n",
    "import pandas as pd\n",
    "\n",
    "from sklearn.preprocessing import LabelEncoder, OneHotEncoder\n",
    "from sklearn.model_selection import train_test_split\n",
    "\n",
    "from keras.models import Sequential\n",
    "from keras.layers import Dense\n",
    "\n",
    "# If you are on CoLab, copy tic-tac-toe.csv to the default dir '/content' before running this code.\n",
    "# Download tic-tac-toe.csv: https://drive.google.com/file/d/1WD4ibv0qqWpP4QoNpBAztx2fNylmZWyv/view?usp=sharing\n",
    "file_name = 'tic-tac-toe.csv' \n",
    "# Import dataset\n",
    "dataset = pd.read_csv(file_name)\n",
    "X = dataset.iloc[:, 0:9].values\n",
    "y = dataset.iloc[:, 9:10].values\n"
   ]
  },
  {
   "cell_type": "code",
   "execution_count": 0,
   "metadata": {
    "colab": {
     "base_uri": "https://localhost:8080/",
     "height": 55
    },
    "colab_type": "code",
    "id": "m_lMJTECefDn",
    "outputId": "4e5c4559-0c51-462d-fa84-e0f4d513b2a7"
   },
   "outputs": [
    {
     "name": "stdout",
     "output_type": "stream",
     "text": [
      "[2 2 2 2 1 1 1 2 1]\n",
      "[1]\n"
     ]
    }
   ],
   "source": [
    "# Encode categorical variables as numeric\n",
    "labelencoder_X = LabelEncoder()\n",
    "for i in range(9):\n",
    "    X[:, i] = labelencoder_X.fit_transform(X[:, i])\n",
    "print(X[0])\n",
    "\n",
    "# Encode target categorical variable\n",
    "labelencoder_y = LabelEncoder()\n",
    "y[:, 0] = labelencoder_y.fit_transform(y[:, 0])\n",
    "print(y[0])"
   ]
  },
  {
   "cell_type": "code",
   "execution_count": 0,
   "metadata": {
    "colab": {},
    "colab_type": "code",
    "id": "7bf7bbRlzx7y"
   },
   "outputs": [],
   "source": [
    "# Train/test split\n",
    "# !!! DO NOT change test_size, random_state and stratify !!\n",
    "X_train, X_test, y_train, y_test = train_test_split(X, y, test_size=0.2, random_state=42, stratify=y)\n"
   ]
  },
  {
   "cell_type": "code",
   "execution_count": 0,
   "metadata": {
    "colab": {
     "base_uri": "https://localhost:8080/",
     "height": 281
    },
    "colab_type": "code",
    "id": "qOuaY0FSz7JQ",
    "outputId": "0057993f-63b9-4eed-cca0-c9ac4af1cf36"
   },
   "outputs": [
    {
     "name": "stdout",
     "output_type": "stream",
     "text": [
      "WARNING:tensorflow:From /usr/local/lib/python3.6/dist-packages/keras/backend/tensorflow_backend.py:66: The name tf.get_default_graph is deprecated. Please use tf.compat.v1.get_default_graph instead.\n",
      "\n",
      "WARNING:tensorflow:From /usr/local/lib/python3.6/dist-packages/keras/backend/tensorflow_backend.py:541: The name tf.placeholder is deprecated. Please use tf.compat.v1.placeholder instead.\n",
      "\n",
      "WARNING:tensorflow:From /usr/local/lib/python3.6/dist-packages/keras/backend/tensorflow_backend.py:4432: The name tf.random_uniform is deprecated. Please use tf.random.uniform instead.\n",
      "\n",
      "WARNING:tensorflow:From /usr/local/lib/python3.6/dist-packages/keras/optimizers.py:793: The name tf.train.Optimizer is deprecated. Please use tf.compat.v1.train.Optimizer instead.\n",
      "\n",
      "WARNING:tensorflow:From /usr/local/lib/python3.6/dist-packages/keras/backend/tensorflow_backend.py:3657: The name tf.log is deprecated. Please use tf.math.log instead.\n",
      "\n",
      "WARNING:tensorflow:From /usr/local/lib/python3.6/dist-packages/tensorflow_core/python/ops/nn_impl.py:183: where (from tensorflow.python.ops.array_ops) is deprecated and will be removed in a future version.\n",
      "Instructions for updating:\n",
      "Use tf.where in 2.0, which has the same broadcast rule as np.where\n"
     ]
    }
   ],
   "source": [
    "# Initialize neural network\n",
    "nnet = Sequential()\n",
    "\n",
    "# Add first hidden layer (and input layer)\n",
    "nnet.add(Dense(units=2, kernel_initializer='uniform', activation='relu', input_dim=9))\n",
    "\n",
    "# Add second hidden layer\n",
    "nnet.add(Dense(units=2, kernel_initializer='uniform', activation='relu'))\n",
    "\n",
    "# Add output layer\n",
    "nnet.add(Dense(units=1, kernel_initializer='uniform', activation='sigmoid'))\n",
    "\n",
    "# Compile network\n",
    "nnet.compile(optimizer='adam', loss='binary_crossentropy', metrics=['accuracy'])"
   ]
  },
  {
   "cell_type": "code",
   "execution_count": 0,
   "metadata": {
    "colab": {
     "base_uri": "https://localhost:8080/",
     "height": 1000
    },
    "colab_type": "code",
    "id": "pgO-JU6f0ASe",
    "outputId": "d2c1d2fd-98c3-4e6e-d52a-cb23dcc3b5e5"
   },
   "outputs": [
    {
     "name": "stdout",
     "output_type": "stream",
     "text": [
      "WARNING:tensorflow:From /usr/local/lib/python3.6/dist-packages/keras/backend/tensorflow_backend.py:1033: The name tf.assign_add is deprecated. Please use tf.compat.v1.assign_add instead.\n",
      "\n",
      "WARNING:tensorflow:From /usr/local/lib/python3.6/dist-packages/keras/backend/tensorflow_backend.py:1020: The name tf.assign is deprecated. Please use tf.compat.v1.assign instead.\n",
      "\n",
      "WARNING:tensorflow:From /usr/local/lib/python3.6/dist-packages/keras/backend/tensorflow_backend.py:3005: The name tf.Session is deprecated. Please use tf.compat.v1.Session instead.\n",
      "\n",
      "Epoch 1/100\n",
      "WARNING:tensorflow:From /usr/local/lib/python3.6/dist-packages/keras/backend/tensorflow_backend.py:190: The name tf.get_default_session is deprecated. Please use tf.compat.v1.get_default_session instead.\n",
      "\n",
      "WARNING:tensorflow:From /usr/local/lib/python3.6/dist-packages/keras/backend/tensorflow_backend.py:197: The name tf.ConfigProto is deprecated. Please use tf.compat.v1.ConfigProto instead.\n",
      "\n",
      "WARNING:tensorflow:From /usr/local/lib/python3.6/dist-packages/keras/backend/tensorflow_backend.py:207: The name tf.global_variables is deprecated. Please use tf.compat.v1.global_variables instead.\n",
      "\n",
      "WARNING:tensorflow:From /usr/local/lib/python3.6/dist-packages/keras/backend/tensorflow_backend.py:216: The name tf.is_variable_initialized is deprecated. Please use tf.compat.v1.is_variable_initialized instead.\n",
      "\n",
      "WARNING:tensorflow:From /usr/local/lib/python3.6/dist-packages/keras/backend/tensorflow_backend.py:223: The name tf.variables_initializer is deprecated. Please use tf.compat.v1.variables_initializer instead.\n",
      "\n",
      "765/765 [==============================] - 9s 12ms/step - loss: 0.6885 - acc: 0.6510\n",
      "Epoch 2/100\n",
      "765/765 [==============================] - 0s 309us/step - loss: 0.6812 - acc: 0.6536\n",
      "Epoch 3/100\n",
      "765/765 [==============================] - 0s 291us/step - loss: 0.6751 - acc: 0.6536\n",
      "Epoch 4/100\n",
      "765/765 [==============================] - 0s 284us/step - loss: 0.6699 - acc: 0.6536\n",
      "Epoch 5/100\n",
      "765/765 [==============================] - 0s 319us/step - loss: 0.6655 - acc: 0.6536\n",
      "Epoch 6/100\n",
      "765/765 [==============================] - 0s 330us/step - loss: 0.6618 - acc: 0.6536\n",
      "Epoch 7/100\n",
      "765/765 [==============================] - 0s 339us/step - loss: 0.6588 - acc: 0.6536\n",
      "Epoch 8/100\n",
      "765/765 [==============================] - 0s 350us/step - loss: 0.6563 - acc: 0.6536\n",
      "Epoch 9/100\n",
      "765/765 [==============================] - 0s 363us/step - loss: 0.6542 - acc: 0.6536\n",
      "Epoch 10/100\n",
      "765/765 [==============================] - 0s 343us/step - loss: 0.6525 - acc: 0.6536\n",
      "Epoch 11/100\n",
      "765/765 [==============================] - 0s 285us/step - loss: 0.6512 - acc: 0.6536\n",
      "Epoch 12/100\n",
      "765/765 [==============================] - 0s 271us/step - loss: 0.6500 - acc: 0.6536\n",
      "Epoch 13/100\n",
      "765/765 [==============================] - 0s 291us/step - loss: 0.6491 - acc: 0.6536\n",
      "Epoch 14/100\n",
      "765/765 [==============================] - 0s 337us/step - loss: 0.6483 - acc: 0.6536\n",
      "Epoch 15/100\n",
      "765/765 [==============================] - 0s 299us/step - loss: 0.6477 - acc: 0.6536\n",
      "Epoch 16/100\n",
      "765/765 [==============================] - 0s 285us/step - loss: 0.6472 - acc: 0.6536\n",
      "Epoch 17/100\n",
      "765/765 [==============================] - 0s 300us/step - loss: 0.6468 - acc: 0.6536\n",
      "Epoch 18/100\n",
      "765/765 [==============================] - 0s 315us/step - loss: 0.6466 - acc: 0.6536\n",
      "Epoch 19/100\n",
      "765/765 [==============================] - 0s 311us/step - loss: 0.6463 - acc: 0.6536\n",
      "Epoch 20/100\n",
      "765/765 [==============================] - 0s 309us/step - loss: 0.6460 - acc: 0.6536\n",
      "Epoch 21/100\n",
      "765/765 [==============================] - 0s 279us/step - loss: 0.6460 - acc: 0.6536\n",
      "Epoch 22/100\n",
      "765/765 [==============================] - 0s 264us/step - loss: 0.6458 - acc: 0.6536\n",
      "Epoch 23/100\n",
      "765/765 [==============================] - 0s 302us/step - loss: 0.6457 - acc: 0.6536\n",
      "Epoch 24/100\n",
      "765/765 [==============================] - 0s 274us/step - loss: 0.6456 - acc: 0.6536\n",
      "Epoch 25/100\n",
      "765/765 [==============================] - 0s 302us/step - loss: 0.6456 - acc: 0.6536\n",
      "Epoch 26/100\n",
      "765/765 [==============================] - 0s 287us/step - loss: 0.6455 - acc: 0.6536\n",
      "Epoch 27/100\n",
      "765/765 [==============================] - 0s 315us/step - loss: 0.6454 - acc: 0.6536\n",
      "Epoch 28/100\n",
      "765/765 [==============================] - 0s 317us/step - loss: 0.6454 - acc: 0.6536\n",
      "Epoch 29/100\n",
      "765/765 [==============================] - 0s 305us/step - loss: 0.6453 - acc: 0.6536\n",
      "Epoch 30/100\n",
      "765/765 [==============================] - 0s 311us/step - loss: 0.6453 - acc: 0.6536\n",
      "Epoch 31/100\n",
      "765/765 [==============================] - 0s 313us/step - loss: 0.6453 - acc: 0.6536\n",
      "Epoch 32/100\n",
      "765/765 [==============================] - 0s 337us/step - loss: 0.6453 - acc: 0.6536\n",
      "Epoch 33/100\n",
      "765/765 [==============================] - 0s 306us/step - loss: 0.6453 - acc: 0.6536\n",
      "Epoch 34/100\n",
      "765/765 [==============================] - 0s 288us/step - loss: 0.6453 - acc: 0.6536\n",
      "Epoch 35/100\n",
      "765/765 [==============================] - 0s 318us/step - loss: 0.6453 - acc: 0.6536\n",
      "Epoch 36/100\n",
      "765/765 [==============================] - 0s 338us/step - loss: 0.6453 - acc: 0.6536\n",
      "Epoch 37/100\n",
      "765/765 [==============================] - 0s 311us/step - loss: 0.6453 - acc: 0.6536\n",
      "Epoch 38/100\n",
      "765/765 [==============================] - 0s 308us/step - loss: 0.6453 - acc: 0.6536\n",
      "Epoch 39/100\n",
      "765/765 [==============================] - 0s 291us/step - loss: 0.6452 - acc: 0.6536\n",
      "Epoch 40/100\n",
      "765/765 [==============================] - 0s 317us/step - loss: 0.6452 - acc: 0.6536\n",
      "Epoch 41/100\n",
      "765/765 [==============================] - 0s 310us/step - loss: 0.6453 - acc: 0.6536\n",
      "Epoch 42/100\n",
      "765/765 [==============================] - 0s 286us/step - loss: 0.6454 - acc: 0.6536\n",
      "Epoch 43/100\n",
      "765/765 [==============================] - 0s 282us/step - loss: 0.6453 - acc: 0.6536\n",
      "Epoch 44/100\n",
      "765/765 [==============================] - 0s 293us/step - loss: 0.6453 - acc: 0.6536\n",
      "Epoch 45/100\n",
      "765/765 [==============================] - 0s 325us/step - loss: 0.6452 - acc: 0.6536\n",
      "Epoch 46/100\n",
      "765/765 [==============================] - 0s 319us/step - loss: 0.6453 - acc: 0.6536\n",
      "Epoch 47/100\n",
      "765/765 [==============================] - 0s 311us/step - loss: 0.6452 - acc: 0.6536\n",
      "Epoch 48/100\n",
      "765/765 [==============================] - 0s 313us/step - loss: 0.6452 - acc: 0.6536\n",
      "Epoch 49/100\n",
      "765/765 [==============================] - 0s 324us/step - loss: 0.6453 - acc: 0.6536\n",
      "Epoch 50/100\n",
      "765/765 [==============================] - 0s 299us/step - loss: 0.6453 - acc: 0.6536\n",
      "Epoch 51/100\n",
      "765/765 [==============================] - 0s 289us/step - loss: 0.6452 - acc: 0.6536\n",
      "Epoch 52/100\n",
      "765/765 [==============================] - 0s 333us/step - loss: 0.6453 - acc: 0.6536\n",
      "Epoch 53/100\n",
      "765/765 [==============================] - 0s 307us/step - loss: 0.6452 - acc: 0.6536\n",
      "Epoch 54/100\n",
      "765/765 [==============================] - 0s 297us/step - loss: 0.6453 - acc: 0.6536\n",
      "Epoch 55/100\n",
      "765/765 [==============================] - 0s 288us/step - loss: 0.6453 - acc: 0.6536\n",
      "Epoch 56/100\n",
      "765/765 [==============================] - 0s 289us/step - loss: 0.6453 - acc: 0.6536\n",
      "Epoch 57/100\n",
      "765/765 [==============================] - 0s 292us/step - loss: 0.6452 - acc: 0.6536\n",
      "Epoch 58/100\n",
      "765/765 [==============================] - 0s 296us/step - loss: 0.6452 - acc: 0.6536\n",
      "Epoch 59/100\n",
      "765/765 [==============================] - 0s 285us/step - loss: 0.6454 - acc: 0.6536\n",
      "Epoch 60/100\n",
      "765/765 [==============================] - 0s 289us/step - loss: 0.6453 - acc: 0.6536\n",
      "Epoch 61/100\n",
      "765/765 [==============================] - 0s 308us/step - loss: 0.6453 - acc: 0.6536\n",
      "Epoch 62/100\n",
      "765/765 [==============================] - 0s 406us/step - loss: 0.6453 - acc: 0.6536\n",
      "Epoch 63/100\n",
      "765/765 [==============================] - 0s 360us/step - loss: 0.6453 - acc: 0.6536\n",
      "Epoch 64/100\n",
      "765/765 [==============================] - 0s 381us/step - loss: 0.6453 - acc: 0.6536\n",
      "Epoch 65/100\n",
      "765/765 [==============================] - 0s 306us/step - loss: 0.6452 - acc: 0.6536\n",
      "Epoch 66/100\n",
      "765/765 [==============================] - 0s 322us/step - loss: 0.6453 - acc: 0.6536\n",
      "Epoch 67/100\n",
      "765/765 [==============================] - 0s 303us/step - loss: 0.6453 - acc: 0.6536\n",
      "Epoch 68/100\n",
      "765/765 [==============================] - 0s 313us/step - loss: 0.6453 - acc: 0.6536\n",
      "Epoch 69/100\n",
      "765/765 [==============================] - 0s 294us/step - loss: 0.6452 - acc: 0.6536\n",
      "Epoch 70/100\n",
      "765/765 [==============================] - 0s 294us/step - loss: 0.6453 - acc: 0.6536\n",
      "Epoch 71/100\n",
      "765/765 [==============================] - 0s 293us/step - loss: 0.6452 - acc: 0.6536\n",
      "Epoch 72/100\n",
      "765/765 [==============================] - 0s 294us/step - loss: 0.6452 - acc: 0.6536\n",
      "Epoch 73/100\n",
      "765/765 [==============================] - 0s 280us/step - loss: 0.6453 - acc: 0.6536\n",
      "Epoch 74/100\n",
      "765/765 [==============================] - 0s 289us/step - loss: 0.6452 - acc: 0.6536\n",
      "Epoch 75/100\n",
      "765/765 [==============================] - 0s 318us/step - loss: 0.6452 - acc: 0.6536\n",
      "Epoch 76/100\n",
      "765/765 [==============================] - 0s 284us/step - loss: 0.6452 - acc: 0.6536\n",
      "Epoch 77/100\n",
      "765/765 [==============================] - 0s 300us/step - loss: 0.6452 - acc: 0.6536\n",
      "Epoch 78/100\n",
      "765/765 [==============================] - 0s 284us/step - loss: 0.6453 - acc: 0.6536\n",
      "Epoch 79/100\n",
      "765/765 [==============================] - 0s 315us/step - loss: 0.6453 - acc: 0.6536\n",
      "Epoch 80/100\n",
      "765/765 [==============================] - 0s 302us/step - loss: 0.6452 - acc: 0.6536\n",
      "Epoch 81/100\n",
      "765/765 [==============================] - 0s 295us/step - loss: 0.6453 - acc: 0.6536\n",
      "Epoch 82/100\n",
      "765/765 [==============================] - 0s 300us/step - loss: 0.6453 - acc: 0.6536\n",
      "Epoch 83/100\n",
      "765/765 [==============================] - 0s 292us/step - loss: 0.6453 - acc: 0.6536\n",
      "Epoch 84/100\n",
      "765/765 [==============================] - 0s 288us/step - loss: 0.6452 - acc: 0.6536\n",
      "Epoch 85/100\n",
      "765/765 [==============================] - 0s 338us/step - loss: 0.6453 - acc: 0.6536\n",
      "Epoch 86/100\n",
      "765/765 [==============================] - 0s 374us/step - loss: 0.6452 - acc: 0.6536\n",
      "Epoch 87/100\n",
      "765/765 [==============================] - 0s 381us/step - loss: 0.6452 - acc: 0.6536\n",
      "Epoch 88/100\n",
      "765/765 [==============================] - 0s 335us/step - loss: 0.6452 - acc: 0.6536\n",
      "Epoch 89/100\n",
      "765/765 [==============================] - 0s 307us/step - loss: 0.6453 - acc: 0.6536\n",
      "Epoch 90/100\n",
      "765/765 [==============================] - 0s 302us/step - loss: 0.6453 - acc: 0.6536\n",
      "Epoch 91/100\n",
      "765/765 [==============================] - 0s 296us/step - loss: 0.6452 - acc: 0.6536\n",
      "Epoch 92/100\n",
      "765/765 [==============================] - 0s 311us/step - loss: 0.6452 - acc: 0.6536\n",
      "Epoch 93/100\n",
      "765/765 [==============================] - 0s 323us/step - loss: 0.6453 - acc: 0.6536\n",
      "Epoch 94/100\n",
      "765/765 [==============================] - 0s 327us/step - loss: 0.6453 - acc: 0.6536\n",
      "Epoch 95/100\n",
      "765/765 [==============================] - 0s 305us/step - loss: 0.6453 - acc: 0.6536\n",
      "Epoch 96/100\n",
      "765/765 [==============================] - 0s 314us/step - loss: 0.6453 - acc: 0.6536\n",
      "Epoch 97/100\n",
      "765/765 [==============================] - 0s 290us/step - loss: 0.6452 - acc: 0.6536\n",
      "Epoch 98/100\n",
      "765/765 [==============================] - 0s 300us/step - loss: 0.6454 - acc: 0.6536\n",
      "Epoch 99/100\n",
      "765/765 [==============================] - 0s 298us/step - loss: 0.6452 - acc: 0.6536\n",
      "Epoch 100/100\n",
      "765/765 [==============================] - 0s 288us/step - loss: 0.6452 - acc: 0.6536\n"
     ]
    },
    {
     "data": {
      "text/plain": [
       "<keras.callbacks.History at 0x7f12340b5780>"
      ]
     },
     "execution_count": 6,
     "metadata": {
      "tags": []
     },
     "output_type": "execute_result"
    }
   ],
   "source": [
    "# Train network\n",
    "nnet.fit(X_train, y_train, batch_size=10, epochs=100)\n"
   ]
  },
  {
   "cell_type": "code",
   "execution_count": 0,
   "metadata": {
    "colab": {
     "base_uri": "https://localhost:8080/",
     "height": 73
    },
    "colab_type": "code",
    "id": "kY7FCrov0G0h",
    "outputId": "ca5a36ab-d3c3-418a-b375-a064765a16d7"
   },
   "outputs": [
    {
     "name": "stdout",
     "output_type": "stream",
     "text": [
      "192/192 [==============================] - 0s 233us/step\n",
      "Test loss: 0.6468123296896616\n",
      "Test accuracy: 0.6510416666666666\n"
     ]
    }
   ],
   "source": [
    "score = nnet.evaluate(X_test, y_test, verbose=1)\n",
    "print('Test loss:', score[0])\n",
    "print('Test accuracy:', score[1])\n",
    "\n",
    "# Predicting the test set results\n",
    "#y_pred = nnet.predict(X_test)"
   ]
  }
 ],
 "metadata": {
  "accelerator": "GPU",
  "colab": {
   "collapsed_sections": [],
   "name": "Lecture5-Example3-TicTacToe-Keras.ipynb",
   "provenance": []
  },
  "kernelspec": {
   "display_name": "Python 3",
   "language": "python",
   "name": "python3"
  },
  "language_info": {
   "codemirror_mode": {
    "name": "ipython",
    "version": 3
   },
   "file_extension": ".py",
   "mimetype": "text/x-python",
   "name": "python",
   "nbconvert_exporter": "python",
   "pygments_lexer": "ipython3",
   "version": "3.7.5"
  }
 },
 "nbformat": 4,
 "nbformat_minor": 1
}
